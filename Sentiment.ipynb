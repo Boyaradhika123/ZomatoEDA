{
  "nbformat": 4,
  "nbformat_minor": 0,
  "metadata": {
    "colab": {
      "provenance": [],
      "authorship_tag": "ABX9TyM2ReXqrbWgW6NDpU61Qt03",
      "include_colab_link": true
    },
    "kernelspec": {
      "name": "python3",
      "display_name": "Python 3"
    },
    "language_info": {
      "name": "python"
    }
  },
  "cells": [
    {
      "cell_type": "markdown",
      "metadata": {
        "id": "view-in-github",
        "colab_type": "text"
      },
      "source": [
        "<a href=\"https://colab.research.google.com/github/Boyaradhika123/ZomatoEDA/blob/main/Sentiment.ipynb\" target=\"_parent\"><img src=\"https://colab.research.google.com/assets/colab-badge.svg\" alt=\"Open In Colab\"/></a>"
      ]
    },
    {
      "cell_type": "code",
      "execution_count": null,
      "metadata": {
        "id": "Do9er6wwkqNt"
      },
      "outputs": [],
      "source": [
        "from sklearn.feature_extraction.text import TfidfVectorizer\n",
        "from sklearn.naive_bayes import MultinomialNB\n",
        "\n",
        "# Sample data\n",
        "texts = [\"I love this phone\",\n",
        "         \"This movie is terrible\",\n",
        "         \"Amazing experience\",\n",
        "         \"I hate this service\"]\n",
        "\n",
        "labels = [\"positive\", \"negative\", \"positive\", \"negative\"]\n",
        "\n",
        "# Convert text into numbers\n",
        "vectorizer = TfidfVectorizer()\n",
        "X = vectorizer.fit_transform(texts)\n",
        "\n",
        "# Train model\n",
        "model = MultinomialNB()\n",
        "model.fit(X, labels)\n",
        "\n",
        "# Test prediction\n",
        "sample = [\"The product is really good\"]\n",
        "X_sample = vectorizer.transform(sample)\n",
        "print(model.predict(X_sample))  # → ['positive']\n"
      ]
    }
  ]
}